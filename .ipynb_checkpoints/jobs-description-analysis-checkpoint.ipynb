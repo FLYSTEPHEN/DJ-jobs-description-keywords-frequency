{
 "cells": [
  {
   "cell_type": "code",
   "execution_count": 231,
   "metadata": {},
   "outputs": [
    {
     "name": "stdout",
     "output_type": "stream",
     "text": [
      "CPU times: user 97.2 ms, sys: 10.5 ms, total: 108 ms\n",
      "Wall time: 108 ms\n"
     ]
    }
   ],
   "source": [
    "%%time\n",
    "# 筛选真正的记者职位\n",
    "import pandas as pd\n",
    "from string import punctuation\n",
    "from dateutil import parser\n",
    "from datetime import timedelta\n",
    "import time\n",
    "punctuation += '\\\"“”‘’—-–'\n",
    "\n",
    "def kill_punctuations_capitals(string): \n",
    "    string = string.replace(\"’s\",\"\") \n",
    "    translator = str.maketrans(\"\",\"\",punctuation) \n",
    "    return string.lower().translate(translator)\n",
    "\n",
    "def check_real(string, real_check_list):\n",
    "    j = 0\n",
    "    for i in real_check_list:\n",
    "        j += kill_punctuations_capitals(string).find(i)\n",
    "    return j > -len(real_check_list)\n",
    "\n",
    "df=pd.read_csv(\"0 jobs.csv\")\n",
    "\n",
    "real_check_list = ['journalist','reporter','editor','news']\n",
    "real_flag = []\n",
    "for i in range(0,df.iloc[:,0].size):\n",
    "    real_flag.append(check_real(df['Title'][i], real_check_list))\n",
    "df['Real']=real_flag\n",
    "\n",
    "df_selected_jobs = df[(df['Real']==True)].sort_values(by='Post_Date',ascending=False).loc[:,'Title':'Description']\n",
    "df_selected_jobs.to_csv('1 new-selected-jobs.csv',na_rep='NaN',index=False)"
   ]
  },
  {
   "cell_type": "code",
   "execution_count": 279,
   "metadata": {},
   "outputs": [
    {
     "name": "stdout",
     "output_type": "stream",
     "text": [
      "CPU times: user 1.02 s, sys: 36.9 ms, total: 1.05 s\n",
      "Wall time: 1.08 s\n"
     ]
    }
   ],
   "source": [
    "%%time\n",
    "# 计数所有frequency\n",
    "from string import punctuation\n",
    "import pandas as pd\n",
    "\n",
    "def count_frequency(text):\n",
    "    def kill_punctuations_capitals(text): \n",
    "        global punctuation\n",
    "        punctuation += '\\\"“”‘’—-–·`'\n",
    "        text = text.replace(\"’s\",\"\") #需要先去除‘s，否則去除標點會留下如chinas，trumps這樣的詞\n",
    "        translator = str.maketrans(\"\",\"\",punctuation) \n",
    "        return text.lower().translate(translator).split() #將大寫字母轉化為小寫，去除標點，列出單詞\n",
    "\n",
    "    def extract_meaningful(list): #去除無意義的單詞\n",
    "        list_meaningful_words = []\n",
    "        with open ('stopword.txt','r') as s:\n",
    "            list_stop_words = s.read().split() #讀取stoplist\n",
    "        for m in list:\n",
    "            if m not in list_stop_words:\n",
    "                list_meaningful_words.append(m)\n",
    "        return list_meaningful_words\n",
    "\n",
    "    def words_frequency(list): #統計一篇文章中的frequency\n",
    "        dict_words_frequency={}\n",
    "        for m in list:\n",
    "            dict_words_frequency[m]=list.count(m)\n",
    "        return dict_words_frequency\n",
    "    return words_frequency(extract_meaningful(kill_punctuations_capitals(text)))\n",
    "\n",
    "def rank_frequency(dict): #根據frequency排序，也可以最後用print(s.sort_values(ascending=False))，但是不方便寫cvs\n",
    "    dict_frequency_rank={}\n",
    "    rank = sorted(dict.items(), key=lambda item: item[1], reverse=True)  #將字典轉化爲二元數組，並根據字典中value排序\n",
    "    for m in range(0,len(rank)):\n",
    "        dict_frequency_rank.update({rank[m][0]:rank[m][1]}) #再將字典重新整合起來\n",
    "    return dict_frequency_rank\n",
    "\n",
    "df_each_frequency = pd.read_csv(\"1 new-selected-jobs.csv\")\n",
    "list_each_frequency = []\n",
    "\n",
    "for i in df_each_frequency['Description']:\n",
    "    list_each_frequency.append(rank_frequency(count_frequency(i)))\n",
    "\n",
    "df_each_frequency['Description'] = list_each_frequency\n",
    "df_each_frequency.to_csv('2 jobs-with-frequency.csv')"
   ]
  },
  {
   "cell_type": "code",
   "execution_count": 280,
   "metadata": {},
   "outputs": [
    {
     "name": "stdout",
     "output_type": "stream",
     "text": [
      "CPU times: user 34.1 ms, sys: 5.12 ms, total: 39.2 ms\n",
      "Wall time: 37.7 ms\n"
     ]
    }
   ],
   "source": [
    "%%time\n",
    "import pandas as pd\n",
    "df=pd.read_csv(\"1 new-selected-jobs.csv\")\n",
    "data_flag = []\n",
    "for i in df['Description']:\n",
    "    data_flag.append(i.lower().find('data') != -1)\n",
    "df['data'] = data_flag\n",
    "df_refer_data = df[(df['data']==True)].loc[:,'Title':'Description']\n",
    "df_refer_data.to_csv('3 jobs-refer_data.csv')"
   ]
  },
  {
   "cell_type": "code",
   "execution_count": 288,
   "metadata": {},
   "outputs": [
    {
     "name": "stdout",
     "output_type": "stream",
     "text": [
      "CPU times: user 248 ms, sys: 6.22 ms, total: 255 ms\n",
      "Wall time: 256 ms\n"
     ]
    }
   ],
   "source": [
    "%%time\n",
    "import pandas as pd\n",
    "\n",
    "def update_dict(dict0,dict1): #兩個txt中的frequency相加\n",
    "    for k,v in dict1.items():\n",
    "        if dict0.__contains__(k):\n",
    "            dict0[k] += v\n",
    "        else:\n",
    "            dict0.update({k : dict1[k]})\n",
    "\n",
    "def rank_frequency(dict): #根據frequency排序，也可以最後用print(s.sort_values(ascending=False))，但是不方便寫cvs\n",
    "    dict_frequency_rank={}\n",
    "    rank = sorted(dict.items(), key=lambda item: item[1], reverse=True)  #將字典轉化爲二元數組，並根據字典中value排序\n",
    "    for m in range(0,len(rank)):\n",
    "        dict_frequency_rank.update({rank[m][0]:rank[m][1]}) #再將字典重新整合起來\n",
    "    return dict_frequency_rank\n",
    "\n",
    "df_each_frequency = pd.read_csv(\"2 jobs-with-frequency.csv\")\n",
    "dict_accumulate_frequency = {} \n",
    "for i in df_each_frequency['Description']:\n",
    "    update_dict(dict_accumulate_frequency,eval(i))\n",
    "dict_frequency_rank = rank_frequency(dict_accumulate_frequency) #排序\n",
    "\n",
    "df_frequency=pd.DataFrame(list(dict_frequency_rank.items()),columns=['word','frequency'])\n",
    "df_frequency.index=range(1,len(df_frequency) + 1)\n",
    "df_frequency.to_csv('4 description-frequency-rank.csv')"
   ]
  }
 ],
 "metadata": {
  "kernelspec": {
   "display_name": "Python 3",
   "language": "python",
   "name": "python3"
  },
  "language_info": {
   "codemirror_mode": {
    "name": "ipython",
    "version": 3
   },
   "file_extension": ".py",
   "mimetype": "text/x-python",
   "name": "python",
   "nbconvert_exporter": "python",
   "pygments_lexer": "ipython3",
   "version": "3.7.0"
  }
 },
 "nbformat": 4,
 "nbformat_minor": 2
}
