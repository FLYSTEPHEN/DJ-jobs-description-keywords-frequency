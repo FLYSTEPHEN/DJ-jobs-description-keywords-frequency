{
 "cells": [
  {
   "cell_type": "code",
   "execution_count": 2,
   "metadata": {},
   "outputs": [],
   "source": [
    "import pandas as pd\n",
    "from numpy import nan\n",
    "from string import punctuation\n",
    "punctuation += '\\\"“”‘’—-–'\n",
    "\n",
    "def kill_punctuations_capitals(string): \n",
    "    string = string.replace(\"’s\",\"\") \n",
    "    translator = str.maketrans(\"\",\"\",punctuation) \n",
    "    return string.lower().translate(translator)\n",
    "\n",
    "def check_real(string, real_check_list):\n",
    "    j = 0\n",
    "    for i in real_check_list:\n",
    "        j += kill_punctuations_capitals(string).find(i)\n",
    "    return j > -len(real_check_list)\n",
    "\n",
    "def count_frequency(text):\n",
    "    def kill_punctuations_capitals(text): \n",
    "        global punctuation\n",
    "        punctuation += '\\\"“”‘’—-–·`'\n",
    "        translator = str.maketrans(\"\",\"\",punctuation) \n",
    "        return text.replace(\"’s\",\"\").translate(translator).lower().split() \n",
    "        #去除‘s，去除標點，將大寫字母轉化為小寫，列出單詞\n",
    "\n",
    "    def words_frequency(list):  #去除stopwords統計一篇文章中的frequency\n",
    "        with open ('stopword.txt','r') as s:\n",
    "            list_stop_words = s.read().split()  #讀取stoplist\n",
    "        return {m: list.count(m) for m in [\n",
    "                m for m in list if m not in list_stop_words]}\n",
    "\n",
    "    def rank_frequency(dict): \n",
    "        dict_frequency_rank={}\n",
    "        rank = sorted(\n",
    "            dict.items(), \n",
    "            key=lambda item: item[1], \n",
    "            reverse=True) \n",
    "        #將字典轉化爲二元數組，並根據字典中value排序\n",
    "        for m in range(0,len(rank)):\n",
    "            dict_frequency_rank.update({\n",
    "                rank[m][0]:rank[m][1]}) \n",
    "            #再將字典重新整合起來\n",
    "        return dict_frequency_rank\n",
    "    \n",
    "    return rank_frequency(\n",
    "        words_frequency(\n",
    "            kill_punctuations_capitals(text)))"
   ]
  },
  {
   "cell_type": "code",
   "execution_count": 65,
   "metadata": {},
   "outputs": [],
   "source": [
    "# 筛选真正的记者职位\n",
    "df_all_jobs = pd.read_csv(\"0 jobs.csv\",header=0)\n",
    "\n",
    "real_check_list = [\n",
    "    'journalist',\n",
    "    'reporter',\n",
    "    'editor',\n",
    "    'news']\n",
    "\n",
    "df_all_jobs['Real'] = [\n",
    "    check_real(i[1][0], real_check_list) for i in df_all_jobs.iterrows()] \n",
    "# .iterrows()可以根据index遍历, df_all_jobs.iterrows()是[(0,series),(1,series)...], \n",
    "# i是(0,series), i[1]是series, i[1][0]是Title\n",
    "\n",
    "df_selected_jobs = df_all_jobs[\n",
    "    df_all_jobs['Real']==True]\n",
    "    .sort_values(\n",
    "        by='Post_Date',ascending=False)\n",
    "\n",
    "df_selected_jobs.to_csv(\n",
    "    '1 new-selected-jobs.csv',\n",
    "    na_rep = nan,\n",
    "    index=False)"
   ]
  },
  {
   "cell_type": "code",
   "execution_count": 67,
   "metadata": {},
   "outputs": [
    {
     "name": "stdout",
     "output_type": "stream",
     "text": [
      "CPU times: user 1.29 s, sys: 40 ms, total: 1.33 s\n",
      "Wall time: 1.38 s\n"
     ]
    }
   ],
   "source": [
    "#统计关键词的frequency\n",
    "key_words = [\n",
    "    'data',\n",
    "    'dataset',\n",
    "    'data analysis',]\n",
    "\n",
    "df_selected_jobs = pd.read_csv(\"1 new-selected-jobs.csv\")\n",
    "\n",
    "df_key_frequency = df_selected_jobs.drop(\n",
    "    'Description',\n",
    "    axis=1,\n",
    "    inplace=False)  #False 代表不在原数据上保存\n",
    "\n",
    "list_jobs_frequency = [\n",
    "    count_frequency(i) for i in df_selected_jobs['Description']]\n",
    "\n",
    "df_key_frequency = df_key_frequency.join(\n",
    "    pd.DataFrame([[\n",
    "        m.get(i) or nan for m in list_jobs_frequency] \n",
    "        for i in key_words],\n",
    "        index=key_words).T)\n",
    "\n",
    "df_key_frequency.to_csv(\n",
    "    '2 jobs-{}-frequency.csv'.format('-'.join(key_words)),\n",
    "    na_rep = nan,\n",
    "    index=False)"
   ]
  },
  {
   "cell_type": "code",
   "execution_count": 3,
   "metadata": {},
   "outputs": [],
   "source": [
    "#统计所有的frequency\n",
    "df_selected_jobs = pd.read_csv(\"1 new-selected-jobs.csv\")\n",
    "dict_frequency = count_frequency(df_selected_jobs['Description'].sum())\n",
    "df_frequency = pd.DataFrame(dict_frequency,index=[0]).T\n",
    "df_frequency.index=range(1,len(df_frequency) + 1)\n",
    "df_frequency.to_csv('3 description-frequency-rank.csv')"
   ]
  }
 ],
 "metadata": {
  "kernelspec": {
   "display_name": "Python 3",
   "language": "python",
   "name": "python3"
  },
  "language_info": {
   "codemirror_mode": {
    "name": "ipython",
    "version": 3
   },
   "file_extension": ".py",
   "mimetype": "text/x-python",
   "name": "python",
   "nbconvert_exporter": "python",
   "pygments_lexer": "ipython3",
   "version": "3.7.0"
  }
 },
 "nbformat": 4,
 "nbformat_minor": 2
}
